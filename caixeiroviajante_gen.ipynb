{
  "nbformat": 4,
  "nbformat_minor": 0,
  "metadata": {
    "colab": {
      "provenance": [],
      "toc_visible": true,
      "include_colab_link": true
    },
    "kernelspec": {
      "name": "python3",
      "display_name": "Python 3"
    },
    "language_info": {
      "name": "python"
    }
  },
  "cells": [
    {
      "cell_type": "markdown",
      "metadata": {
        "id": "view-in-github",
        "colab_type": "text"
      },
      "source": [
        "<a href=\"https://colab.research.google.com/github/marinaotokk/banco-midias/blob/main/caixeiroviajante_gen.ipynb\" target=\"_parent\"><img src=\"https://colab.research.google.com/assets/colab-badge.svg\" alt=\"Open In Colab\"/></a>"
      ]
    },
    {
      "cell_type": "markdown",
      "source": [
        "## **Algortimos Genéticos**\n",
        "\n",
        "* São técnicas de Computação Evolucionária centrada na busca de soluções para problemas de otimização."
      ],
      "metadata": {
        "id": "C3iJRKLT49Sp"
      }
    },
    {
      "cell_type": "markdown",
      "source": [
        "## **Problema do Caixeiro Viajante**\n",
        "\n",
        "O probelma possui o objetivo de encontrar a menor rota possível para visitar um conjunto de cidades, passando por cada uma delas uma única vez, e retornar à origem.\n"
      ],
      "metadata": {
        "id": "E2nfZseL6UI0"
      }
    },
    {
      "cell_type": "markdown",
      "source": [
        "## **Biblioteca DAEP**\n",
        "Para o desenvolvimento do problema foi utilizada a biblioteca DEAP https://deap.readthedocs.io/en/master/ que é nova estrutura de computação evolutiva para desenvolvimento de algoritmos genéticos."
      ],
      "metadata": {
        "id": "QSBw6ceu7IAl"
      }
    },
    {
      "cell_type": "code",
      "source": [
        "# 1. Pacotes e módulos\n",
        "\n",
        "import random\n",
        "import numpy\n",
        "\n",
        "\n",
        "from deap import algorithms\n",
        "from deap import base\n",
        "from deap import creator\n",
        "from deap import tools"
      ],
      "metadata": {
        "id": "DutIYT3W7siA",
        "colab": {
          "base_uri": "https://localhost:8080/",
          "height": 383
        },
        "outputId": "3245b534-7dde-4b2a-88c9-8d245d927223"
      },
      "execution_count": 1,
      "outputs": [
        {
          "output_type": "error",
          "ename": "ModuleNotFoundError",
          "evalue": "No module named 'deap'",
          "traceback": [
            "\u001b[0;31m---------------------------------------------------------------------------\u001b[0m",
            "\u001b[0;31mModuleNotFoundError\u001b[0m                       Traceback (most recent call last)",
            "\u001b[0;32m<ipython-input-1-bee75e9b961e>\u001b[0m in \u001b[0;36m<cell line: 7>\u001b[0;34m()\u001b[0m\n\u001b[1;32m      5\u001b[0m \u001b[0;34m\u001b[0m\u001b[0m\n\u001b[1;32m      6\u001b[0m \u001b[0;34m\u001b[0m\u001b[0m\n\u001b[0;32m----> 7\u001b[0;31m \u001b[0;32mfrom\u001b[0m \u001b[0mdeap\u001b[0m \u001b[0;32mimport\u001b[0m \u001b[0malgorithms\u001b[0m\u001b[0;34m\u001b[0m\u001b[0;34m\u001b[0m\u001b[0m\n\u001b[0m\u001b[1;32m      8\u001b[0m \u001b[0;32mfrom\u001b[0m \u001b[0mdeap\u001b[0m \u001b[0;32mimport\u001b[0m \u001b[0mbase\u001b[0m\u001b[0;34m\u001b[0m\u001b[0;34m\u001b[0m\u001b[0m\n\u001b[1;32m      9\u001b[0m \u001b[0;32mfrom\u001b[0m \u001b[0mdeap\u001b[0m \u001b[0;32mimport\u001b[0m \u001b[0mcreator\u001b[0m\u001b[0;34m\u001b[0m\u001b[0;34m\u001b[0m\u001b[0m\n",
            "\u001b[0;31mModuleNotFoundError\u001b[0m: No module named 'deap'",
            "",
            "\u001b[0;31m---------------------------------------------------------------------------\u001b[0;32m\nNOTE: If your import is failing due to a missing package, you can\nmanually install dependencies using either !pip or !apt.\n\nTo view examples of installing some common dependencies, click the\n\"Open Examples\" button below.\n\u001b[0;31m---------------------------------------------------------------------------\u001b[0m\n"
          ],
          "errorDetails": {
            "actions": [
              {
                "action": "open_url",
                "actionText": "Open Examples",
                "url": "/notebooks/snippets/importing_libraries.ipynb"
              }
            ]
          }
        }
      ]
    },
    {
      "cell_type": "code",
      "source": [
        "# 2. Grafos para o problema\n",
        "\n",
        "# função grafoPCV(numberCities, minDist, maxDist)\n",
        "# parâmetros:\n",
        "#   numberCities: número de cidades\n",
        "#   minDist: menor distância\n",
        "#   maxDist: maior distância\n",
        "# return:\n",
        "#   cidades: grafo de cidades (Matriz numCities X numCities).\n",
        "#   Distâmcoa entre duas cidades são determinadas aleatoriamente entre minDist e maxDist\n",
        "def grafoPCV(numberCities, minDist, maxDist):\n",
        "  cities = numpy.zeros((numberCities, numberCities), dtype = int)\n",
        "  for i in range(numberCities):\n",
        "    for j in range(numberCities):\n",
        "      if (j>i):\n",
        "        cities[i, j] = random.randint(minDist, maxDist)\n",
        "      elif (j<i):\n",
        "        cities[i, j] = cities[j, i]\n",
        "  return cities\n",
        "\n",
        "numberCities = 5     #  Número de cidade inicial\n",
        "\n",
        "while(True):\n",
        "  numberCities = int(input('Digite o número de cidades: '))\n",
        "  if (numberCities > 4):\n",
        "    break\n",
        "  else:\n",
        "    print('O número de cidades deve ser maior que 4!')\n",
        "\n",
        "cities = grafoPCV(numberCities, 10, 100)\n",
        "print('Grafo:\\n', cities)"
      ],
      "metadata": {
        "id": "g-B93lhr_mwm"
      },
      "execution_count": null,
      "outputs": []
    },
    {
      "cell_type": "code",
      "source": [
        "# 3. Definir Geração dos Indivíduos\n",
        "\n",
        "creator.create(\"FitnessMin\", base.Fitness, weights=(-1.0,)) # peso negativo para solução miníma\n",
        "creator.create(\"Individual\", list, fitness=creator.FitnessMin)\n",
        "\n",
        "toolbox = base.Toolbox()\n",
        "# gerador de parâmetros\n",
        "toolbox.register(\"attr_int\", random.randint, 0, numberCities-1)\n",
        "\n",
        "# definir como os indivíduos/população são gerados\n",
        "toolbox.register(\"individual\", tools.initRepeat, creator.Individual, toolbox.attr_int, numberCities)\n",
        "toolbox.register(\"population\", tools.initRepeat, list, toolbox.individual)"
      ],
      "metadata": {
        "id": "BW7CyhMuCd72"
      },
      "execution_count": null,
      "outputs": []
    },
    {
      "cell_type": "markdown",
      "source": [
        "## **Avaliação de Aptidão**\n",
        "A Função de Aptidão ou Fitness mede o grau de aptidão de cada indivíduo da população.\n",
        "\n",
        "> No caso do **Problema do Caixeiro Viajante** a aptidão está associada a menor rota."
      ],
      "metadata": {
        "id": "Ijna9OA6DhWC"
      }
    },
    {
      "cell_type": "code",
      "source": [
        "# 4. Função para avaliar a aptidão\n",
        "\n",
        "# Função evalRoute(individual)\n",
        "# parâmetros:\n",
        "#   individual: uma rota\n",
        "# retorno:\n",
        "#   (cost, ): tupla contendo apenas o custo da rota (cost). * é uma tupla por causa das exigências do pacote DEAP\n",
        "def evalRoute(individual):\n",
        "  cost = 0\n",
        "  for i in range(1, len(individual)):\n",
        "    if (individual.count(individual[i])>1):\n",
        "      cost = cost + 1000000 # penalidade por repetição da cidade\n",
        "    cost = cost + cities[individual[i-1], individual[i]]\n",
        "  cost = cost + cities[individual[i],individual[0]]\n",
        "  return (cost,)"
      ],
      "metadata": {
        "id": "Atfm-YSrD1JL"
      },
      "execution_count": null,
      "outputs": []
    },
    {
      "cell_type": "markdown",
      "source": [
        "## **Processamento do Algoritmo Genético**\n"
      ],
      "metadata": {
        "id": "l3aftYHIFVHh"
      }
    },
    {
      "cell_type": "code",
      "source": [
        "#Plota o grafo com a melhor rota encontrada\n",
        "def plot_graph(cities, route=None):\n",
        "    G = nx.Graph()\n",
        "    for i in range(len(cities)):\n",
        "        for j in range(i+1, len(cities)):\n",
        "            G.add_edge(i, j, weight=cities[i][j])\n",
        "\n",
        "    pos = nx.spring_layout(G)\n",
        "    nx.draw(G, pos, with_labels=True, node_color='skyblue', node_size=700)\n",
        "    labels = nx.get_edge_attributes(G, 'weight')\n",
        "    nx.draw_networkx_edge_labels(G, pos, edge_labels=labels)\n",
        "\n",
        "    if route:\n",
        "        edges = [(route[i-1], route[i]) for i in range(len(route))]\n",
        "        G_route = nx.Graph()\n",
        "        G_route.add_edges_from(edges)\n",
        "        nx.draw(G_route, pos, edge_color='red', width=2)\n",
        "\n",
        "    plt.show()\n",
        "\n",
        "#5. Processamento do Algoritmo Genético\n",
        "\n",
        "# Definindo avaliação de aptidão, seleção, cruzamento e mutação\n",
        "toolbox.register(\"evaluate\", evalRoute)\n",
        "toolbox.register(\"select\", tools.selTournament, tournsize=3) # seleção por torneio\n",
        "toolbox.register(\"mate\", tools.cxOnePoint) # um ponto de cruzamento\n",
        "toolbox.register(\"mutate\", tools.mutUniformInt, low=0, up=numberCities-1, indpb=0.05)\n",
        "\n",
        "def main():\n",
        "  print('Execução do algoritmo genético:')\n",
        "\n",
        "  # random.seed(64)\n",
        "  NGEN = 100     # número de gerações\n",
        "  MU = 50        # tamanho da população\n",
        "  LAMBDA = 100   # número de filhos gerados\n",
        "  CXPB = 0.7     # probabilidade de cruzamento\n",
        "  MUTPB = 0.3    # probabilidade de mutação\n",
        "\n",
        "  pop = toolbox.population(n=MU)\n",
        "  hof = tools.ParetoFront()\n",
        "  stats = tools.Statistics(lambda ind: ind.fitness.values)\n",
        "  stats.register(\"avg\", numpy.mean, axis=0)\n",
        "  stats.register(\"std\", numpy.std, axis=0)\n",
        "  stats.register(\"min\", numpy.min, axis=0)\n",
        "  stats.register(\"max\", numpy.max, axis=0)\n",
        "\n",
        "  algorithms.eaMuPlusLambda(pop, toolbox, MU, LAMBDA, CXPB, MUTPB, NGEN, stats,\n",
        "                            halloffame=hof)\n",
        "\n",
        "  print('\\nRota:', hof[0],'\\nCusto:', evalRoute(hof[0])[0])\n",
        "\n",
        "  best_route = hof[0]\n",
        "  plot_graph(cities, best_route)\n",
        "\n",
        "  return pop, stats, hof\n",
        "\n",
        "if __name__ == \"__main__\":\n",
        "    main()"
      ],
      "metadata": {
        "id": "4Rw-mQgeFbKF"
      },
      "execution_count": null,
      "outputs": []
    }
  ]
}